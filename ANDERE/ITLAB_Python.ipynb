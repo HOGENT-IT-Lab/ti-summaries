{
 "cells": [
  {
   "cell_type": "markdown",
   "metadata": {},
   "source": [
    "# IT-Lab: Python Tutorial"
   ]
  },
  {
   "cell_type": "markdown",
   "metadata": {},
   "source": [
    "### Installatie\n",
    "- https://docs.anaconda.com/anaconda/install/windows/\n",
    "- https://docs.jupyter.org/en/latest/install/notebook-classic.html\n",
    "- https://code.visualstudio.com/docs/datascience/jupyter-notebooks"
   ]
  },
  {
   "cell_type": "markdown",
   "metadata": {},
   "source": [
    "## Introductie\n",
    "Python is populair, zelfs populairder dan Java en C. Waarom? Omdat het zo leesbaar en gemakkelijk is. Ziehier het makkelijkste hello world programma ooit."
   ]
  },
  {
   "cell_type": "code",
   "execution_count": 1,
   "metadata": {},
   "outputs": [
    {
     "name": "stdout",
     "output_type": "stream",
     "text": [
      "Hello World\n"
     ]
    }
   ],
   "source": [
    "print(\"Hello World\")"
   ]
  },
  {
   "cell_type": "markdown",
   "metadata": {},
   "source": [
    "Python kan voor heel veel zaken gebruikt worden. \n",
    "- Webapplicaties met [Django](https://www.djangoproject.com/)\n",
    "- Data analyse met [pandas](https://pandas.pydata.org/)\n",
    "- Wetenschappelijk rekenen met [NumPy](https://numpy.org/)\n",
    "- Video games met [Pygame](https://www.pygame.org)\n",
    "- En nog veel meer!"
   ]
  },
  {
   "cell_type": "markdown",
   "metadata": {},
   "source": [
    "## Variabelen en types\n",
    "In python hoeft men het type van de variabele niet op voorhand te declareren. Het zal zelf *at runtime* controleren of de operaties die uitvoerd worden wel mogelijk zijn op dat type (-> *dynamically typed*). Hier komt ook bij dat een variabele van type kan wijzigen.\n",
    "\n",
    "Enkele types zijn:\n",
    "- bool\n",
    "- float\n",
    "- int\n",
    "- str\n",
    "- list\n",
    "- set\n",
    "- range\n",
    "- tuple\n",
    "- dict\n",
    "\n",
    "In Python gebruikt men *snake case* (snake_case) ipv *camel case* (camelCase) voor namen van variabelen etc."
   ]
  },
  {
   "cell_type": "code",
   "execution_count": 1,
   "metadata": {},
   "outputs": [
    {
     "name": "stdout",
     "output_type": "stream",
     "text": [
      "<class 'int'>\n",
      "<class 'str'>\n"
     ]
    }
   ],
   "source": [
    "var_one = 1 # Dit is een number\n",
    "print(type(var_one))\n",
    "var_one = \"Nu ben ik een string??!\"\n",
    "print(type(var_one))"
   ]
  },
  {
   "cell_type": "markdown",
   "metadata": {},
   "source": [
    "### Booleans\n",
    "Bools in python zijn de waarde True en False (met hoofdletter!). Vier soorten operatoren geven bools terug als returnwaarde.\n",
    "1. Vergelijkingsoperatoren\n",
    "2. Logische operatoren\n",
    "3. Identiteits operatoren\n",
    "4. Lid operatoren"
   ]
  },
  {
   "cell_type": "code",
   "execution_count": 3,
   "metadata": {},
   "outputs": [
    {
     "name": "stdout",
     "output_type": "stream",
     "text": [
      "False\n",
      "True\n",
      "False\n",
      "True\n",
      "False\n",
      "True\n",
      "True\n",
      "True\n",
      "False\n",
      "True\n",
      "False\n"
     ]
    }
   ],
   "source": [
    "# Vergelijking van integers\n",
    "print(1 == 2)\n",
    "print(3 < 5)\n",
    "print(4 >= 7)\n",
    "print(3 != 4)\n",
    "\n",
    "# Logische operatoren\n",
    "print(True and False)\n",
    "print(True or False)\n",
    "print(not False)\n",
    "\n",
    "# De identiteits operator is\n",
    "x = 1\n",
    "y = 1\n",
    "z = x\n",
    "print(x is y)\n",
    "print(z is not x)\n",
    "\n",
    "# De lid operator in\n",
    "print('a' in 'anarchie')\n",
    "print('a' not in 'abelton')"
   ]
  },
  {
   "cell_type": "markdown",
   "metadata": {},
   "source": [
    "### Ints, floats\n",
    "Ints stellen gehele getallen voor, floats decimale."
   ]
  },
  {
   "cell_type": "code",
   "execution_count": 20,
   "metadata": {},
   "outputs": [
    {
     "data": {
      "text/plain": [
       "1.0"
      ]
     },
     "execution_count": 20,
     "metadata": {},
     "output_type": "execute_result"
    }
   ],
   "source": [
    "# Casting: tip, probeer enkel te rekenen met getallen van hetzelfde type om onverwachte errors te vermijden\n",
    "var_int = int(3.2)\n",
    "var_float = float(3)\n",
    "\n",
    "# Standaard operaties\n",
    "var_int + 1\n",
    "var_int += 1\n",
    "\n",
    "var_float *= 3.5\n",
    "\n",
    "var_int -= 3\n",
    "\n",
    "# Gehele deling\n",
    "var_int // 2\n",
    "\n",
    "# Deling (levert float op)\n",
    "var_int / 2"
   ]
  },
  {
   "cell_type": "markdown",
   "metadata": {},
   "source": [
    "## Collecties\n",
    "Speciaal aan deze collecties in python is dat ze elementen van verschillende types kunnen bevatten.\n",
    "### List\n",
    "Lists zijn vergelijkbaar met Lists in Java. Elementen hebben een vaste volgorde en de lijst is uitbreidbaar. Lists worden aangeduid met [x, y]\n",
    "### Set\n",
    "Ook sets zijn vergelijkbaar met de Set in Java. Ze bevatten een ongeordende verzameling van unieke waarden. Er kunnen unieke waarden toegevoegd of verwijderd worden. Sets herken je aan de {x, y}\n",
    "### Tuple\n",
    "Een tuple bevat een geordende lijst van data en is onveranderbaar. Tuples gebruiken (x, y).\n",
    "### Dictionaries\n",
    "Dictionaries (dict) zijn vergelijkbaar met de HashMaps van Java. Ze bevatten dus een collectie key-value paren. Dicts gebruiken {x:y, z:w}"
   ]
  },
  {
   "cell_type": "code",
   "execution_count": 4,
   "metadata": {},
   "outputs": [],
   "source": [
    "# Lege list\n",
    "my_empty_list = list()\n",
    "my_other_empty_list = []\n",
    "\n",
    "# List met initiele waarden\n",
    "my_list = ['a', \"Blabla\", 2]\n",
    "my_other_list = [\"Coco\"]\n",
    "\n",
    "# Bekijk waarde\n",
    "my_list[0]\n",
    "\n",
    "# Voeg items toe\n",
    "my_list.append(\"Z\")\n",
    "\n",
    "# Handige functies\n",
    "len(my_list)\n",
    "my_list.extend(my_other_list)\n",
    "my_list.insert(1, \"AC Meloen\")\n",
    "my_list.remove(\"AC Meloen\")\n",
    "\n",
    "# BELANGRIJK! Check of element in list\n",
    "print('a' in my_list)\n",
    "\n",
    "# Set\n",
    "my_set = set()\n",
    "my_other_set = {\"A\", \"C\"}\n",
    "\n",
    "my_set.add(\"C\")\n",
    "my_set.remove(\"B\")\n",
    "\n",
    "# Tuple\n",
    "my_tuple = (1, 2)\n",
    "my_tuple[1]\n",
    "\n",
    "# Tuple unpacking -> waarden in variabelen steken\n",
    "(my_first, my_second) = my_tuple\n",
    "\n",
    "# Dictionary\n",
    "my_dict = dict()\n",
    "my_dict[\"sleutel\"] = \"waarde\"\n",
    "my_dict.get(\"sleutel\")\n",
    "\n",
    "my_dict.keys()\n",
    "my_dict.values()\n",
    "\n",
    "my_dict.update({\"andere\": \"anders\"})\n",
    "\n",
    "# Verwijderen\n",
    "my_dict.pop(\"andere\")\n"
   ]
  },
  {
   "cell_type": "markdown",
   "metadata": {},
   "source": [
    "### Strings\n",
    "Strings mogen zowel met \"\" als met '' voorgesteld worden. Ze worden beschouwd als list van karakters.\n",
    "Strings zijn *immutable* wat zo veel wil zeggen dat je niet rechtstreeks de string kan aanpassen."
   ]
  },
  {
   "cell_type": "code",
   "execution_count": 4,
   "metadata": {},
   "outputs": [
    {
     "name": "stdout",
     "output_type": "stream",
     "text": [
      "ABBAABBA\n"
     ]
    }
   ],
   "source": [
    "# Toewijzing\n",
    "var_string = \"ABBA\"\n",
    "print(var_string)\n",
    "\n",
    "# Verdubbel de string. Shorthand voor var_string = var_string * 2\n",
    "var_string *= 2\n",
    "print(var_string)\n",
    "\n",
    "# String concatenatie (moeilijk woord voor samenplakken)\n",
    "a = \"a\"\n",
    "b = \"b\"\n",
    "c = a + b\n",
    "print(c)\n",
    "\n",
    "# Een string is een list\n",
    "print(var_string[0])"
   ]
  },
  {
   "cell_type": "markdown",
   "metadata": {},
   "source": [
    "### Slices\n",
    "Een heel belangrijke functionaliteit voor lists (en strings) is *slicing*. Hiermee kan je heel precies een deellijst selecteren. "
   ]
  },
  {
   "cell_type": "code",
   "execution_count": 10,
   "metadata": {},
   "outputs": [
    {
     "name": "stdout",
     "output_type": "stream",
     "text": [
      "[0, 1, 2, 3, 4, 5, 6, 7, 8, 9]\n",
      "[1, 3]\n",
      "[1, 2, 3, 4]\n",
      "[0, 1]\n",
      "[2, 3, 4, 5, 6, 7, 8, 9]\n",
      "[0, 3, 6]\n",
      "[9, 8, 7, 6, 5, 4, 3, 2, 1, 0]\n",
      "olleH\n"
     ]
    }
   ],
   "source": [
    "# Een slice heeft deze structuur: lijst[start:einde:stap]\n",
    "slice_list = list(range(0,10))\n",
    "print(slice_list)\n",
    "\n",
    "# Start is inclusief, einde exclusief\n",
    "print(slice_list[1:5:2])\n",
    "\n",
    "# De default waarde voor stap is 1\n",
    "print(slice_list[1:5])\n",
    "\n",
    "# Voor start en einde is de default de start en het einde van de lijst (duh)\n",
    "print(slice_list[:2])\n",
    "print(slice_list[2:])\n",
    "\n",
    "# Start tot 8 in stappen van 3\n",
    "print(slice_list[:9:3])\n",
    "\n",
    "# Men kan ook negatieve stappen nemen dan overlopen we de lijst in omgekeerde volgorde\n",
    "print(slice_list[::-1])\n",
    "\n",
    "# Dit is heel handing om strings om te draaien!\n",
    "hello = \"Hello\"\n",
    "reverse_hello = hello[::-1]\n",
    "print(reverse_hello)"
   ]
  },
  {
   "cell_type": "markdown",
   "metadata": {},
   "source": [
    "### List Comprehensions (extra)\n",
    "List comprehensions vormen een eenvoudige manier om bewerkingen/transformaties op lijsten enzo te doen. De syntax is als volgt: newlist = [expression for item in iterable if condition == True]"
   ]
  },
  {
   "cell_type": "code",
   "execution_count": 5,
   "metadata": {},
   "outputs": [
    {
     "name": "stdout",
     "output_type": "stream",
     "text": [
      "['Appel', 'Dadel']\n",
      "['A', 'B', 'C', 'D', 'F']\n",
      "['Appel is kort', 'Banaan is lang', 'Citroen is lang', 'Dadel is kort', 'Framboos is lang']\n"
     ]
    }
   ],
   "source": [
    "fruit = ['Appel','Banaan','Citroen','Dadel', 'Framboos']\n",
    "# Als filter gebruiken\n",
    "kort_fruit = [f for f in fruit if len(f) <= 5]\n",
    "print(kort_fruit)\n",
    "\n",
    "# Als transformator\n",
    "letter_fruit = [f[0] for f in fruit]\n",
    "print(letter_fruit)\n",
    "\n",
    "# Je kan ook if else in het expression gedeelte gebruiken\n",
    "rating_fruit = [f\"{fr} is een korte naam\" if len(fr) <= 5 else f\"{fr} is een lange naam\" for fr in fruit]\n",
    "print(rating_fruit)\n"
   ]
  },
  {
   "cell_type": "markdown",
   "metadata": {},
   "source": [
    "## Controle structuren\n",
    "De klassieke if...else, while en for zijn ook in python aanwezig.\n",
    "Python werkt niet met {} of ; voor code blokken maar met indentaties. De conventie is om 4 spaties te gebruiken maar meer/minder of tabs werken ook zolang je maar consistent bent. De meeste editors doen dit trouwens al vanzelf."
   ]
  },
  {
   "cell_type": "code",
   "execution_count": 2,
   "metadata": {},
   "outputs": [
    {
     "name": "stdout",
     "output_type": "stream",
     "text": [
      "passed\n",
      "0\n",
      "1\n",
      "2\n",
      "3\n",
      "4\n",
      "5\n",
      "6\n",
      "7\n",
      "8\n",
      "9\n",
      "1\n",
      "H\n",
      "3\n",
      "True\n"
     ]
    }
   ],
   "source": [
    "var_something = 1\n",
    "\n",
    "# if (elif) else\n",
    "if var_something > 0:\n",
    "    print(\"passed\")\n",
    "elif var_something == 0:\n",
    "    print(\"okay\")\n",
    "else:\n",
    "    print(\"failed\")\n",
    "\n",
    "# while en for loop\n",
    "var_teller = 0\n",
    "while var_teller < 10:\n",
    "    print(var_teller)\n",
    "    var_teller += 1\n",
    "\n",
    "for chr in [1, \"H\", 3, True]:\n",
    "    print(chr)"
   ]
  },
  {
   "cell_type": "markdown",
   "metadata": {},
   "source": [
    "### Range\n",
    "De range is een soort iterator die je kan gebruiken in for loops"
   ]
  },
  {
   "cell_type": "code",
   "execution_count": 11,
   "metadata": {},
   "outputs": [
    {
     "name": "stdout",
     "output_type": "stream",
     "text": [
      "0\n",
      "2\n",
      "4\n",
      "6\n",
      "8\n",
      "0\n",
      "1\n",
      "2\n",
      "3\n",
      "4\n"
     ]
    }
   ],
   "source": [
    "# range(start, einde, stap) -> start inclusief, einde exclusief. stap default 1\n",
    "for i in range(0, 10, 2):\n",
    "    print(i)\n",
    "\n",
    "# Zo kan je hem dus ook gebruiken\n",
    "for i in range(5):\n",
    "    print(i)\n"
   ]
  },
  {
   "cell_type": "markdown",
   "metadata": {},
   "source": [
    "## Functies\n",
    "Je eigen functies definieeren is ook heel makkelijk."
   ]
  },
  {
   "cell_type": "code",
   "execution_count": 3,
   "metadata": {},
   "outputs": [
    {
     "name": "stdout",
     "output_type": "stream",
     "text": [
      "een functie:test\n",
      "student Nio kent python\n",
      "Broeder Jorn kent python\n"
     ]
    }
   ],
   "source": [
    "def een_functie(een_param):\n",
    "    print(f\"een functie:{een_param}\")\n",
    "\n",
    "een_functie(\"test\")\n",
    "\n",
    "# default parameters moeten altijd op het einde komen\n",
    "def andere_functie(naam, titel=\"Student\"):\n",
    "    print(f\"{titel} {naam} kent python\")\n",
    "\n",
    "def functie_return():\n",
    "    return \"Ik return iets\"\n",
    "\n",
    "andere_functie(\"Nio\")\n",
    "andere_functie(\"Jorn\", \"Broeder\")"
   ]
  },
  {
   "cell_type": "markdown",
   "metadata": {},
   "source": [
    "### Errors\n",
    "Python heeft de klassiek try-catch blokken maar deze zullen we niet vaak nodig hebben. Wel interessant is zelf errors *raise*n. Deze worden gebruikt om de gebruiker er op te wijzen dat er bijvoorbeeld foute of ongeldige invoer werd gegeven voor een functie. Online kan je alle error types vinden. Een veel gebruikte in de lessen is de AssertionError."
   ]
  },
  {
   "cell_type": "code",
   "execution_count": 3,
   "metadata": {},
   "outputs": [
    {
     "name": "stdout",
     "output_type": "stream",
     "text": [
      "0.5\n"
     ]
    },
    {
     "ename": "ValueError",
     "evalue": "DELEN DOOR NUL IS FLAUWE KUL",
     "output_type": "error",
     "traceback": [
      "\u001b[1;31m---------------------------------------------------------------------------\u001b[0m",
      "\u001b[1;31mValueError\u001b[0m                                Traceback (most recent call last)",
      "Cell \u001b[1;32mIn [3], line 7\u001b[0m\n\u001b[0;32m      5\u001b[0m     \u001b[38;5;28;01mreturn\u001b[39;00m teller\u001b[38;5;241m/\u001b[39mnoemer\n\u001b[0;32m      6\u001b[0m \u001b[38;5;28mprint\u001b[39m(breuk(\u001b[38;5;241m1\u001b[39m,\u001b[38;5;241m2\u001b[39m))\n\u001b[1;32m----> 7\u001b[0m \u001b[38;5;28mprint\u001b[39m(\u001b[43mbreuk\u001b[49m\u001b[43m(\u001b[49m\u001b[38;5;241;43m3\u001b[39;49m\u001b[43m,\u001b[49m\u001b[38;5;241;43m0\u001b[39;49m\u001b[43m)\u001b[49m)\n",
      "Cell \u001b[1;32mIn [3], line 4\u001b[0m, in \u001b[0;36mbreuk\u001b[1;34m(teller, noemer)\u001b[0m\n\u001b[0;32m      1\u001b[0m \u001b[38;5;28;01mdef\u001b[39;00m \u001b[38;5;21mbreuk\u001b[39m(teller, noemer):\n\u001b[0;32m      2\u001b[0m     \u001b[38;5;28;01mif\u001b[39;00m noemer \u001b[38;5;241m==\u001b[39m \u001b[38;5;241m0\u001b[39m:\n\u001b[0;32m      3\u001b[0m         \u001b[38;5;66;03m# ValueError: Inappropriate argument value (of correct type).\u001b[39;00m\n\u001b[1;32m----> 4\u001b[0m         \u001b[38;5;28;01mraise\u001b[39;00m \u001b[38;5;167;01mValueError\u001b[39;00m(\u001b[38;5;124m\"\u001b[39m\u001b[38;5;124mDELEN DOOR NUL IS FLAUWE KUL\u001b[39m\u001b[38;5;124m\"\u001b[39m)\n\u001b[0;32m      5\u001b[0m     \u001b[38;5;28;01mreturn\u001b[39;00m teller\u001b[38;5;241m/\u001b[39mnoemer\n",
      "\u001b[1;31mValueError\u001b[0m: DELEN DOOR NUL IS FLAUWE KUL"
     ]
    }
   ],
   "source": [
    "def breuk(teller, noemer):\n",
    "    if noemer == 0:\n",
    "        # ValueError: Inappropriate argument value (of correct type).\n",
    "        raise ValueError(\"DELEN DOOR NUL IS FLAUWE KUL\")\n",
    "    return teller/noemer\n",
    "print(breuk(1,2))\n",
    "print(breuk(3,0))"
   ]
  },
  {
   "cell_type": "markdown",
   "metadata": {},
   "source": [
    "## There's a function for that\n",
    "Een van de zaken die Python typeert is dat er heel wat functies beschikbaar zijn in libraries die werk voor ons doen. Hieronder twee vaakgebruikte voorbeelden."
   ]
  },
  {
   "cell_type": "markdown",
   "metadata": {},
   "source": [
    "### Math\n",
    "De Math library bevat een hele hoop handige afrondings en wiskundige functies. Hieronder een paar vaak gebruikte."
   ]
  },
  {
   "cell_type": "code",
   "execution_count": null,
   "metadata": {},
   "outputs": [],
   "source": [
    "import math\n",
    "\n",
    "# Afronden met .ceil() naar boven en .floor() naar beneden\n",
    "math.ceil(10.3)\n",
    "math.floor(10.3)\n",
    "\n",
    "# Logaritme\n",
    "math.log(10)\n",
    "\n",
    "# Vierkantswortel\n",
    "math.sqrt(9)"
   ]
  },
  {
   "cell_type": "markdown",
   "metadata": {},
   "source": [
    "### Random\n",
    "Voor het genereren van (pseudo) willekeurige getallen."
   ]
  },
  {
   "cell_type": "code",
   "execution_count": 1,
   "metadata": {},
   "outputs": [
    {
     "data": {
      "text/plain": [
       "13"
      ]
     },
     "execution_count": 1,
     "metadata": {},
     "output_type": "execute_result"
    }
   ],
   "source": [
    "import random\n",
    "\n",
    "random.seed()\n",
    "random.randint(1, 100)"
   ]
  },
  {
   "cell_type": "markdown",
   "metadata": {},
   "source": [
    "## Classes\n",
    "Python bevat ook een mogelijkheid om met klassen te werken."
   ]
  },
  {
   "cell_type": "code",
   "execution_count": 3,
   "metadata": {},
   "outputs": [
    {
     "name": "stdout",
     "output_type": "stream",
     "text": [
      "Cool hoor\n",
      "s\n"
     ]
    }
   ],
   "source": [
    "class ClassName:\n",
    "    def __init__(self, some_arg):\n",
    "        self.list_var = []\n",
    "        self.arg = some_arg\n",
    "    \n",
    "    def class_function(self):\n",
    "        return \"Cool hoor\"\n",
    "\n",
    "my_obj = ClassName(\"s\")\n",
    "print(my_obj.class_function())\n",
    "print(my_obj.arg)"
   ]
  },
  {
   "cell_type": "markdown",
   "metadata": {},
   "source": [
    "Klassen bevatten enkele default functies die je kan implementeren.\n",
    "https://blog.finxter.com/python-dunder-methods-cheat-sheet/"
   ]
  },
  {
   "cell_type": "code",
   "execution_count": null,
   "metadata": {},
   "outputs": [],
   "source": [
    "class NewClass:\n",
    "    # Init is de default constructor. Deze moet altijd starten met self\n",
    "    def __init__(self):\n",
    "        self.var = 0\n",
    "\n",
    "    # String voorstelling\n",
    "    def __str__(self):\n",
    "        return f\"{self.var}\"\n",
    "\n",
    "    # Representatie object (verwarrend met __str__ i know)\n",
    "    def __repr__(self):\n",
    "        return f\"NewClass(var={self.var})\"\n",
    "\n",
    "    # Wanneer zijn twee instanties van deze klasse gelijk aan elkaar?\n",
    "    def __eq__(self, other):\n",
    "        pass\n",
    "\n",
    "    # Wanneer is een instantie <= een andere?\n",
    "    def __le__(self, other):\n",
    "        pass\n",
    "\n",
    "    # Waneer strikt kleiner?\n",
    "    def __lt__(self, other):\n",
    "        pass"
   ]
  },
  {
   "cell_type": "markdown",
   "metadata": {},
   "source": [
    "Self refereert naar het object. Zo verkrijgen we toegang tot attributen van het object. Het is geen keyword omdat je technisch gezien de naam ervan zelf mag kiezen (Het is de eerste parameter in de init methode). self gebruiken is wel een conventie!"
   ]
  },
  {
   "cell_type": "markdown",
   "metadata": {},
   "source": [
    "### Overerving\n",
    "Klassen kunnen ook overerven van elkaar. Python is echter niet echt OO en dit wordt ook niet vaak gebruikt (toch niet voor de zaken die wij zullen zien)."
   ]
  },
  {
   "cell_type": "code",
   "execution_count": null,
   "metadata": {},
   "outputs": [],
   "source": [
    "class ChildClass(NewClass):\n",
    "    # Uitbreiden __init__ functie\n",
    "    def __init__(self, var2):\n",
    "        super().__init__()\n",
    "        self.var2 = var2"
   ]
  },
  {
   "cell_type": "markdown",
   "metadata": {},
   "source": [
    "## Om af te ronden"
   ]
  },
  {
   "cell_type": "markdown",
   "metadata": {},
   "source": [
    "### Pythonic Code\n",
    "Python heeft een hele eigen stijlgids die beschrijft hoe mooie code te schrijven (pythonic way): https://docs.python-guide.org/writing/style/"
   ]
  },
  {
   "cell_type": "markdown",
   "metadata": {},
   "source": [
    "## Oefeningen\n",
    "Je kan op eigen tempo deze oefeningen maken om een beetje beter vertrouwd te raken met Python. In de tweede python cell staat testcode waaraan je ook de verwachte uitvoer kan zien.\n",
    "\n",
    "### 1 - Strings\n",
    "Schrijf een functie pet_sounds die twee argumenten aanneemt: een dier en een geluid."
   ]
  },
  {
   "cell_type": "code",
   "execution_count": 3,
   "metadata": {},
   "outputs": [],
   "source": [
    "# Schrijf hier je code"
   ]
  },
  {
   "cell_type": "code",
   "execution_count": 4,
   "metadata": {},
   "outputs": [
    {
     "name": "stdout",
     "output_type": "stream",
     "text": [
      "True\n",
      "False\n"
     ]
    }
   ],
   "source": [
    "print(pet_sounds(\"Dog\", \"woof\")) # output: \"Dog says woof\"\n",
    "print(pet_sounds(\"Cat\", \"meow\")) # output: \"Cat says meow\""
   ]
  },
  {
   "cell_type": "markdown",
   "metadata": {},
   "source": [
    "### 2 - Lists\n",
    "Schrijf een functie impostor die het eerste nummer in een lijst oplopende getallen vindt dat juist lager is dan zijn voorganger."
   ]
  },
  {
   "cell_type": "code",
   "execution_count": 10,
   "metadata": {},
   "outputs": [],
   "source": [
    "# Schrijf hier je code"
   ]
  },
  {
   "cell_type": "code",
   "execution_count": 12,
   "metadata": {},
   "outputs": [
    {
     "data": {
      "text/plain": [
       "False"
      ]
     },
     "execution_count": 12,
     "metadata": {},
     "output_type": "execute_result"
    }
   ],
   "source": [
    "impostor_1 = [1, 2, 5, 3, 9]\n",
    "impostor_2 = [9, 2, 3, 6, 20]\n",
    "impostor_3 = [1, 3, 5, 20, 10]\n",
    "\n",
    "print(impostor(impostor_1)) # output: 5\n",
    "print(impostor(impostor_2)) # output: 9\n",
    "print(impostor(impostor_3)) # output: 20"
   ]
  },
  {
   "cell_type": "markdown",
   "metadata": {},
   "source": [
    "### 3 - Functies\n",
    "Schrijf een functie die de fibonacci sequentie uitprint tot het gegeven getal. (https://en.wikipedia.org/wiki/Fibonacci_number#Definition)"
   ]
  },
  {
   "cell_type": "code",
   "execution_count": null,
   "metadata": {},
   "outputs": [],
   "source": [
    "# Schrijf hier je code"
   ]
  }
 ],
 "metadata": {
  "kernelspec": {
   "display_name": "Python 3.8.2 32-bit",
   "language": "python",
   "name": "python3"
  },
  "language_info": {
   "codemirror_mode": {
    "name": "ipython",
    "version": 3
   },
   "file_extension": ".py",
   "mimetype": "text/x-python",
   "name": "python",
   "nbconvert_exporter": "python",
   "pygments_lexer": "ipython3",
   "version": "3.8.2"
  },
  "orig_nbformat": 4,
  "vscode": {
   "interpreter": {
    "hash": "a53a6a407d54542aba06c08246a8f03491122e12bcc45e9f61ea5045d3bb04b4"
   }
  }
 },
 "nbformat": 4,
 "nbformat_minor": 2
}